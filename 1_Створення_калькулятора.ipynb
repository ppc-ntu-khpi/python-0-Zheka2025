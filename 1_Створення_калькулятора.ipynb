{
  "nbformat": 4,
  "nbformat_minor": 0,
  "metadata": {
    "colab": {
      "name": "1. Створення калькулятора",
      "provenance": [],
      "collapsed_sections": [],
      "history_visible": true
    },
    "kernelspec": {
      "name": "python3",
      "display_name": "Python 3"
    },
    "language_info": {
      "name": "python"
    }
  },
  "cells": [
    {
      "cell_type": "markdown",
      "metadata": {
        "id": "rlre0OlSmOCt"
      },
      "source": [
        "# Створення калькулятора"
      ]
    },
    {
      "cell_type": "markdown",
      "metadata": {
        "id": "Vf-hl0LhzbI4"
      },
      "source": [
        "1. Запустіть на виконання наступну комірку з кодом. Введіть потрібні дані й перегляньте результат"
      ]
    },
    {
      "cell_type": "code",
      "metadata": {
        "colab": {
          "base_uri": "https://localhost:8080/"
        },
        "id": "dhrvfmbmmbjk",
        "outputId": "465901f1-e8f6-45a0-b0f9-a22bf7511ac5"
      },
      "source": [
        "first_number = int(input('Введіть перше число: ')) ;\n",
        "second_number = int(input('Введіть друге число: ')) ;\n",
        "print(\"Сума чисел: \", first_number + second_number)"
      ],
      "execution_count": 1,
      "outputs": [
        {
          "output_type": "stream",
          "name": "stdout",
          "text": [
            "Введіть перше число: 5\n",
            "Введіть друге число: 6\n",
            "Сума чисел:  11\n"
          ]
        }
      ]
    },
    {
      "cell_type": "markdown",
      "metadata": {
        "id": "E2jK9sw7zsCy"
      },
      "source": [
        "2. В наступній пустій комірці спробуйте переписати код так, щоб виводились **сума, різниця, добуток та частка** введених чисел:"
      ]
    },
    {
      "cell_type": "code",
      "metadata": {
        "id": "CmzAvUWJ4RF3",
        "outputId": "e79f76d2-939a-4a9f-a073-8e731c36a4d0",
        "colab": {
          "base_uri": "https://localhost:8080/"
        }
      },
      "source": [
        "first_number = int(input('Введіть перше число: ')) ;\n",
        "second_number = int(input('Введіть друге число: ')) ;\n",
        "print(\"Сума чисел: \", first_number + second_number)\n",
        "print(\"Сума чисел: \", first_number - second_number)\n",
        "print(\"Сума чисел: \", first_number * second_number)\n",
        "print(\"Сума чисел: \", first_number / second_number)"
      ],
      "execution_count": 2,
      "outputs": [
        {
          "output_type": "stream",
          "name": "stdout",
          "text": [
            "Введіть перше число: 5\n",
            "Введіть друге число: 6\n",
            "Сума чисел:  11\n",
            "Сума чисел:  -1\n",
            "Сума чисел:  30\n",
            "Сума чисел:  0.8333333333333334\n"
          ]
        }
      ]
    },
    {
      "cell_type": "markdown",
      "metadata": {
        "id": "oxuEKHxW4WJU"
      },
      "source": [
        "3. А тепер давайте порахуємо відстань між Києвом та Полтавою у милях (1 миля = 1,60934 км), знаючи що в кілометрах це 305,3 км. Підказка: для заокруглення до першого знаку після коми використовуйте конструкцію \n",
        "``` python\n",
        "round(x, 1)\n",
        "```\n",
        "Результат обчислень збережіть у змінній ```distMiles```"
      ]
    },
    {
      "cell_type": "code",
      "metadata": {
        "id": "5XsPFvNI8q9b",
        "outputId": "643cbf60-4c51-499a-8430-1948c13a8cdb",
        "colab": {
          "base_uri": "https://localhost:8080/"
        }
      },
      "source": [
        "distMiles = round(305.3 / 1.60934, 1)\n",
        "print(distMiles)"
      ],
      "execution_count": 6,
      "outputs": [
        {
          "output_type": "stream",
          "name": "stdout",
          "text": [
            "189.7\n"
          ]
        }
      ]
    },
    {
      "cell_type": "markdown",
      "metadata": {
        "id": "K7MSB5kX87wg"
      },
      "source": [
        "### Перевіримо чи все гаразд:\n",
        "До речі - це гарний приклад використання [Wolfram Alpha](https://www.wolframalpha.com/)!"
      ]
    },
    {
      "cell_type": "code",
      "metadata": {
        "id": "ocxz1jXhz7qH",
        "colab": {
          "base_uri": "https://localhost:8080/"
        },
        "outputId": "6bc823ad-55a6-4659-c006-b4aa8a2b0133"
      },
      "source": [
        "!pip install wolframalpha\n",
        "app_id = '2ARWPW-8GAHYH5HQH'\n",
        "\n",
        "from wolframalpha import Client\n",
        "\n",
        "client = Client(app_id)\n",
        "res = client.query('distance between Poltava and Kiev') # in km or miles\n",
        "\n",
        "# якби результат складався б з кількох блоків даних\n",
        "#for pod in res.pods:\n",
        "#  for sub in pod.subpods:\n",
        "#    print(sub.plaintext)\n",
        "\n",
        "res = next(res.results).text\n",
        "# print(res)\n",
        "\n",
        "correct = float(res.split(' ')[0])\n",
        "if distMiles==correct:\n",
        "  print('Все правильно! Ви молодець!')\n",
        "else:\n",
        "  print(f\"Щось не те - має вийти {correct} миль, а у Вас вийшло {distMiles}!\")"
      ],
      "execution_count": 7,
      "outputs": [
        {
          "output_type": "stream",
          "name": "stdout",
          "text": [
            "Looking in indexes: https://pypi.org/simple, https://us-python.pkg.dev/colab-wheels/public/simple/\n",
            "Requirement already satisfied: wolframalpha in /usr/local/lib/python3.7/dist-packages (5.0.0)\n",
            "Requirement already satisfied: more-itertools in /usr/local/lib/python3.7/dist-packages (from wolframalpha) (8.14.0)\n",
            "Requirement already satisfied: xmltodict in /usr/local/lib/python3.7/dist-packages (from wolframalpha) (0.13.0)\n",
            "Requirement already satisfied: jaraco.context in /usr/local/lib/python3.7/dist-packages (from wolframalpha) (4.1.2)\n",
            "Все правильно! Ви молодець!\n"
          ]
        }
      ]
    },
    {
      "cell_type": "markdown",
      "metadata": {
        "id": "H8d21gii0QsQ"
      },
      "source": [
        "Нагадую, що цю вправу ви також можете виконати на [Microsoft Learn](https://docs.microsoft.com/ru-ru/learn/modules/intro-to-python/7-exercise-input)."
      ]
    },
    {
      "cell_type": "markdown",
      "metadata": {
        "id": "__msdISS82eX"
      },
      "source": [
        "### Результат виконання роботи:"
      ]
    },
    {
      "cell_type": "code",
      "metadata": {
        "colab": {
          "base_uri": "https://localhost:8080/"
        },
        "id": "e4KBs6IF4j_B",
        "outputId": "f3733549-ef74-4715-cdca-4903cf57d96c"
      },
      "source": [
        "distMiles = round(305.3 / 1.60934, 1)\n",
        "print(distMiles)"
      ],
      "execution_count": 8,
      "outputs": [
        {
          "output_type": "stream",
          "name": "stdout",
          "text": [
            "189.7\n"
          ]
        }
      ]
    }
  ]
}